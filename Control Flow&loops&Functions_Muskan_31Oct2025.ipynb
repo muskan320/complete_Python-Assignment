{
 "cells": [
  {
   "cell_type": "markdown",
   "id": "3b2b1833-2f8f-40ca-887e-1f4e28495b4b",
   "metadata": {},
   "source": [
    "<h1><center><b><u><span style=\"color:blue\">ASSIGNMENT-3</span></u>(Control Flow,Loops a</b></center></h1>\n"
   ]
  },
  {
   "cell_type": "code",
   "execution_count": null,
   "id": "4388d7a2-37c8-43f4-8b5a-d32820a6aadd",
   "metadata": {},
   "outputs": [],
   "source": []
  },
  {
   "cell_type": "markdown",
   "id": "74ee6908-0c5d-40bf-8b4b-0e3f7162e2b5",
   "metadata": {},
   "source": [
    "<h4><b>Ques1:</b>Create a program that validates a password based on complexity rules (length, characters, etc.). </h4>\n"
   ]
  },
  {
   "cell_type": "code",
   "execution_count": 4,
   "id": "fd0f8124-5d02-4ab1-80c7-3657e548385c",
   "metadata": {},
   "outputs": [
    {
     "name": "stdin",
     "output_type": "stream",
     "text": [
      "Enter the password: musu1234\n"
     ]
    },
    {
     "name": "stdout",
     "output_type": "stream",
     "text": [
      " Your Password is valid and strong:\n"
     ]
    }
   ],
   "source": [
    "#PROGRAM\n",
    "password=input(\"Enter the password:\")\n",
    "if len(password)<8:\n",
    "    print(\"password must be of atleast 8 characters long:\" )\n",
    "elif password.isalpha():\n",
    "    print(\"Password must contain atleast one number:\")\n",
    "elif password.isdigit():\n",
    "    print(\"Password must contain atleast one letter:\")    \n",
    "else:\n",
    "    print(\" Your Password is valid and strong:\")\n",
    "    "
   ]
  },
  {
   "cell_type": "markdown",
   "id": "4a156908-ec66-4081-a18a-a0bf5d5b27dd",
   "metadata": {},
   "source": [
    "<h4><b>Ques2:</b>Develop a program that performs matrix addition and subtraction based on user input. </h4>\n"
   ]
  },
  {
   "cell_type": "code",
   "execution_count": null,
   "id": "f95adee6-2d97-4843-8aa9-f2dda7c777f9",
   "metadata": {},
   "outputs": [],
   "source": [
    "#PROGRAM\n"
   ]
  },
  {
   "cell_type": "markdown",
   "id": "f53604c2-697a-468a-addf-0651931d1eac",
   "metadata": {},
   "source": [
    "<h4><b>Ques3:</b>Write a program that calculates the greatest common divisor (GCD) of two numbers using the Euclidean algorithm.</h4>\n"
   ]
  },
  {
   "cell_type": "code",
   "execution_count": 6,
   "id": "67e52b25-a319-4316-8a75-500b4fc5a15d",
   "metadata": {},
   "outputs": [
    {
     "name": "stdin",
     "output_type": "stream",
     "text": [
      "Enter the first number:  55\n",
      "Enter  the second number:  99\n"
     ]
    },
    {
     "name": "stdout",
     "output_type": "stream",
     "text": [
      "GCD is: 11\n"
     ]
    }
   ],
   "source": [
    "#PROGRAM \n",
    "num1 = int(input(\"Enter the first number: \"))\n",
    "num2= int(input(\"Enter  the second number: \"))\n",
    "\n",
    "while num2!= 0:\n",
    "    num1, num2 = num2, num1% num2\n",
    "\n",
    "print(\"GCD(Greatest Common Divison\n",
    "is:\", num1)"
   ]
  },
  {
   "cell_type": "markdown",
   "id": "ae4b4711-8e50-448e-83e8-4e42e2b812d3",
   "metadata": {},
   "source": [
    "<h4><b>Ques4:</b>Build a program that performs matrix multiplication using nested loops and conditional statements.</h4>\n"
   ]
  },
  {
   "cell_type": "code",
   "execution_count": null,
   "id": "4eeb9265-7f83-427c-9040-6cb756d9ae80",
   "metadata": {},
   "outputs": [],
   "source": []
  },
  {
   "cell_type": "code",
   "execution_count": 7,
   "id": "2965aba5-af8d-4ab5-b805-10f977717e62",
   "metadata": {},
   "outputs": [
    {
     "name": "stdout",
     "output_type": "stream",
     "text": [
      "Resultant Matrix:\n",
      "[369, 392]\n",
      "[433, 460]\n"
     ]
    }
   ],
   "source": [
    "#PROGRAM\n",
    "\n",
    "A = [[11, 12],\n",
    "     [13, 14]]\n",
    "\n",
    "B = [[15, 16],\n",
    "     [17, 18]]\n",
    "\n",
    "# create result matrix with 0s\n",
    "result = [[0, 0],\n",
    "          [0, 0]]\n",
    "\n",
    "# multiply using nested loops\n",
    "for i in range(2):\n",
    "    for j in range(2):\n",
    "        for k in range(2):\n",
    "            result[i][j] += A[i][k] * B[k][j]\n",
    "\n",
    "# THE RESULT\n",
    "print(\"Resultant Matrix:\")\n",
    "for r in result:\n",
    "    print(r)\n"
   ]
  },
  {
   "cell_type": "markdown",
   "id": "60e968c6-5528-479e-b2ee-ad1adf783ac0",
   "metadata": {},
   "source": [
    "<h4><b>Ques5:</b>Create a program that simulates a basic text-based tic-tac-toe game against the computer. </h4>\n"
   ]
  },
  {
   "cell_type": "code",
   "execution_count": 35,
   "id": "800a7954-cdb6-4f37-ba73-955e993ba626",
   "metadata": {},
   "outputs": [
    {
     "name": "stdout",
     "output_type": "stream",
     "text": [
      "  |   |  \n",
      "--+---+--\n",
      "  |   |  \n",
      "--+---+--\n",
      "  |   |  \n"
     ]
    },
    {
     "name": "stdin",
     "output_type": "stream",
     "text": [
      "Enter position (0–8) for X:  1\n"
     ]
    },
    {
     "name": "stdout",
     "output_type": "stream",
     "text": [
      "  | X |  \n",
      "--+---+--\n",
      "  |   |  \n",
      "--+---+--\n",
      "  |   |  \n"
     ]
    },
    {
     "name": "stdin",
     "output_type": "stream",
     "text": [
      "Enter position (0–8) for O:  2\n"
     ]
    },
    {
     "name": "stdout",
     "output_type": "stream",
     "text": [
      "  | X | O\n",
      "--+---+--\n",
      "  |   |  \n",
      "--+---+--\n",
      "  |   |  \n"
     ]
    },
    {
     "name": "stdin",
     "output_type": "stream",
     "text": [
      "Enter position (0–8) for X:  5\n"
     ]
    },
    {
     "name": "stdout",
     "output_type": "stream",
     "text": [
      "  | X | O\n",
      "--+---+--\n",
      "  |   | X\n",
      "--+---+--\n",
      "  |   |  \n"
     ]
    },
    {
     "name": "stdin",
     "output_type": "stream",
     "text": [
      "Enter position (0–8) for O:  7\n"
     ]
    },
    {
     "name": "stdout",
     "output_type": "stream",
     "text": [
      "  | X | O\n",
      "--+---+--\n",
      "  |   | X\n",
      "--+---+--\n",
      "  | O |  \n"
     ]
    },
    {
     "name": "stdin",
     "output_type": "stream",
     "text": [
      "Enter position (0–8) for X:  4\n"
     ]
    },
    {
     "name": "stdout",
     "output_type": "stream",
     "text": [
      "  | X | O\n",
      "--+---+--\n",
      "  | X | X\n",
      "--+---+--\n",
      "  | O |  \n"
     ]
    },
    {
     "name": "stdin",
     "output_type": "stream",
     "text": [
      "Enter position (0–8) for O:  3\n"
     ]
    },
    {
     "name": "stdout",
     "output_type": "stream",
     "text": [
      "  | X | O\n",
      "--+---+--\n",
      "O | X | X\n",
      "--+---+--\n",
      "  | O |  \n"
     ]
    },
    {
     "name": "stdin",
     "output_type": "stream",
     "text": [
      "Enter position (0–8) for X:  6\n"
     ]
    },
    {
     "name": "stdout",
     "output_type": "stream",
     "text": [
      "  | X | O\n",
      "--+---+--\n",
      "O | X | X\n",
      "--+---+--\n",
      "X | O |  \n"
     ]
    },
    {
     "name": "stdin",
     "output_type": "stream",
     "text": [
      "Enter position (0–8) for O:  8\n"
     ]
    },
    {
     "name": "stdout",
     "output_type": "stream",
     "text": [
      "  | X | O\n",
      "--+---+--\n",
      "O | X | X\n",
      "--+---+--\n",
      "X | O | O\n"
     ]
    },
    {
     "name": "stdin",
     "output_type": "stream",
     "text": [
      "Enter position (0–8) for X:  0\n"
     ]
    },
    {
     "name": "stdout",
     "output_type": "stream",
     "text": [
      "X | X | O\n",
      "--+---+--\n",
      "O | X | X\n",
      "--+---+--\n",
      "X | O | O\n",
      "Game Over\n"
     ]
    }
   ],
   "source": [
    "#Program\n",
    "board = [' '] * 9\n",
    "\n",
    "def print_board():\n",
    "    print(board[0], \"|\", board[1], \"|\", board[2])\n",
    "    print(\"--+---+--\")\n",
    "    print(board[3], \"|\", board[4], \"|\", board[5])\n",
    "    print(\"--+---+--\")\n",
    "    print(board[6], \"|\", board[7], \"|\", board[8])\n",
    "\n",
    "player = 'X'\n",
    "for i in range(9):\n",
    "    print_board()\n",
    "    pos = int(input(f\"Enter position (0–8) for {player}: \"))\n",
    "    if board[pos] == ' ':\n",
    "        board[pos] = player\n",
    "        player = 'O' if player == 'X' else 'X'\n",
    "print_board()\n",
    "print(\"Game Over\")\n"
   ]
  },
  {
   "cell_type": "markdown",
   "id": "5c896c89-d097-4c00-908b-ccb5612d2c46",
   "metadata": {},
   "source": [
    "<h4><b>Ques6:</b>Write a program that generates Fibonacci numbers up to a specified term using iterative methods. </h4>\n"
   ]
  },
  {
   "cell_type": "code",
   "execution_count": 36,
   "id": "f11d0098-c7b1-4afd-81fe-0a47b427a8c1",
   "metadata": {},
   "outputs": [
    {
     "name": "stdin",
     "output_type": "stream",
     "text": [
      "Enter number of terms:  5\n"
     ]
    },
    {
     "name": "stdout",
     "output_type": "stream",
     "text": [
      "0 1 1 2 3 "
     ]
    }
   ],
   "source": [
    "#Program\n",
    "n = int(input(\"Enter number of terms: \"))\n",
    "a, b = 0, 1\n",
    "for i in range(n):\n",
    "    print(a, end=\" \")\n",
    "    a, b = b, a + b\n"
   ]
  },
  {
   "cell_type": "markdown",
   "id": "1fdb4ad5-13d6-432d-b04c-e6f4ef2bf542",
   "metadata": {},
   "source": [
    "<h4><b>Ques7:</b>Develop a program that calculates the nth term of the Fibonacci sequence using memoization.</h4>\n"
   ]
  },
  {
   "cell_type": "code",
   "execution_count": 15,
   "id": "3b1d42e4-f990-42b8-94b2-d10d6fa8e6ed",
   "metadata": {},
   "outputs": [
    {
     "name": "stdin",
     "output_type": "stream",
     "text": [
      " Enter the value of n: 3\n"
     ]
    },
    {
     "name": "stdout",
     "output_type": "stream",
     "text": [
      "Fibonacci term: 2\n"
     ]
    }
   ],
   "source": [
    "#Program\n",
    "memo={}\n",
    "def fibo(n):\n",
    "    if n in memo:\n",
    "        return memo[n]\n",
    "    if n<=1:\n",
    "        return n\n",
    "    memo[n]=fibo(n-1)+fibo(n-2)\n",
    "    return memo[n]\n",
    "n=int(input(\" Enter the value of n:\"))\n",
    "print(\"Fibonacci term:\",fibo(n))\n",
    "    \n",
    "    "
   ]
  },
  {
   "cell_type": "markdown",
   "id": "d1093283-9746-4c6f-8013-c668b40aa3ad",
   "metadata": {},
   "source": [
    "<h4><b>Ques8:</b>Create a program that generates a calendar for a given month and year using conditional statements. </h4>\n"
   ]
  },
  {
   "cell_type": "code",
   "execution_count": 20,
   "id": "f3efbaac-eb75-476a-b32d-780e904aa955",
   "metadata": {},
   "outputs": [
    {
     "name": "stdin",
     "output_type": "stream",
     "text": [
      "Enter the year: 2018\n",
      "Enter the month(from 1 to 12): 5\n"
     ]
    },
    {
     "name": "stdout",
     "output_type": "stream",
     "text": [
      "\n",
      "Month:5 Year:2018\n",
      "Number of days:31\n"
     ]
    }
   ],
   "source": [
    "year=int(input(\"Enter the year:\"))\n",
    "month=int(input(\"Enter the month(from 1 to 12):\"))\n",
    "if (year%400==0) or (year%4==0 and year%100!=0):\n",
    "    leap=True\n",
    "else:\n",
    "     leap=False\n",
    "\n",
    "if month==2:\n",
    "    if leap:\n",
    "        days=29\n",
    "    else:\n",
    "        days=28\n",
    "elif month in [1,3,5,7,8,10,12]:\n",
    "   days=31\n",
    "else: \n",
    "   days =30\n",
    "print(f\"\\nMonth:{month} Year:{year}\")\n",
    "print(f\"Number of days:{days}\")"
   ]
  },
  {
   "cell_type": "markdown",
   "id": "2fbabc4b-d9d1-41ef-9be4-259c7dac1326",
   "metadata": {},
   "source": [
    "<h4><b>Ques9:</b>Build a program that simulates a basic text-based blackjack game against the computer.</h4>\n"
   ]
  },
  {
   "cell_type": "code",
   "execution_count": 27,
   "id": "abb97036-ddd9-4238-a215-da005fbed7d0",
   "metadata": {},
   "outputs": [
    {
     "name": "stdout",
     "output_type": "stream",
     "text": [
      "Your score: 16\n",
      "Dealer score(computer): 12\n",
      "You won\n"
     ]
    }
   ],
   "source": [
    "import random\n",
    "player=random.randint(2,21)\n",
    "dealer=random.randint(2,21)\n",
    "\n",
    "print(\"Your score:\",player)\n",
    "print(\"Dealer score(computer):\",dealer)\n",
    "\n",
    "if player>21:\n",
    "    print(\"You lose!\")\n",
    "elif dealer >21:\n",
    "    print(\"dealer busted!You won the game\")\n",
    "elif player>dealer:\n",
    "    print(\"You won\")\n",
    "else:\n",
    "    print(\"Dealer(computer) wins\")"
   ]
  },
  {
   "cell_type": "markdown",
   "id": "0db1732b-3621-4948-8e42-3f704fd1ff5d",
   "metadata": {},
   "source": [
    "<h4><b>Ques10:</b> Write a program that generates the prime factors of a given number using trial division.</h4>\n",
    "\n"
   ]
  },
  {
   "cell_type": "code",
   "execution_count": 30,
   "id": "abe67d8c-572b-4f33-b00a-149cf90c31f0",
   "metadata": {},
   "outputs": [
    {
     "name": "stdin",
     "output_type": "stream",
     "text": [
      "Enter the number: 6\n"
     ]
    },
    {
     "name": "stdout",
     "output_type": "stream",
     "text": [
      "Prime factors of  6 are:\n",
      "2\n",
      "3\n"
     ]
    }
   ],
   "source": [
    "###### Program\n",
    "n=int(input(\"Enter the number:\"))\n",
    "\n",
    "print(\"Prime factors of \",n,\"are:\")\n",
    "\n",
    "i=2\n",
    "while i<=n:\n",
    "    if n%i==0:\n",
    "        print(i)\n",
    "        n=n//i\n",
    "    else:\n",
    "        i+=1\n",
    "        "
   ]
  },
  {
   "cell_type": "markdown",
   "id": "344b2c4f-9736-4c47-b693-40dee2eb71e6",
   "metadata": {},
   "source": [
    "<h2><b><u><span style=\"color:red\">Loops</span></u></b></h2>"
   ]
  },
  {
   "cell_type": "markdown",
   "id": "61c3b7a0-03ba-45ef-8163-1a5961a2c8ea",
   "metadata": {},
   "source": [
    "<h4><b>Ques1:</b>Write a program to generate a list of prime numbers using the Sieve of Eratosthenes algorithm and list comprehension. </h4>"
   ]
  },
  {
   "cell_type": "code",
   "execution_count": 44,
   "id": "ee322485-9fd0-4951-9c68-068a3e08c1a6",
   "metadata": {},
   "outputs": [
    {
     "name": "stdin",
     "output_type": "stream",
     "text": [
      "Enter the number: 6\n"
     ]
    },
    {
     "name": "stdout",
     "output_type": "stream",
     "text": [
      "Prime numbers are: [2, 3, 5]\n"
     ]
    }
   ],
   "source": [
    "#Program\n",
    "n=int(input(\"Enter the number:\"))\n",
    "nums= [True]*(n+1)\n",
    "nums[0]=nums[1] = False \n",
    "\n",
    "for i in range(2,int(n**0.5)+1):\n",
    "    if nums[i]:\n",
    "        for j in range(i*i,n+1,i):\n",
    "           nums[j]=False\n",
    "\n",
    "primes=[i for i in range(n+1) if nums[i]]\n",
    "print(\"Prime numbers are:\",primes)"
   ]
  },
  {
   "cell_type": "markdown",
   "id": "4aa4df16-e5a8-4e37-91b4-7878555e4802",
   "metadata": {},
   "source": [
    "<h4><b>Ques2:</b> Create a program that generates a list of all Pythagorean triplets up to a specified limit using list comprehension. </h4>\n"
   ]
  },
  {
   "cell_type": "code",
   "execution_count": 39,
   "id": "181d07b4-9b1b-48a4-9172-fff8226730fd",
   "metadata": {},
   "outputs": [
    {
     "name": "stdout",
     "output_type": "stream",
     "text": [
      "Pythagorean Triplets up to 20 :\n",
      "[(3, 4, 5), (5, 12, 13), (6, 8, 10), (8, 15, 17), (9, 12, 15)]\n"
     ]
    }
   ],
   "source": [
    "#Program\n",
    "limit = 20\n",
    "triplets = []\n",
    "\n",
    "for a in range(1, limit):\n",
    "    for b in range(a, limit):\n",
    "        for c in range(b, limit):\n",
    "            if a*a + b*b == c*c:\n",
    "                triplets.append((a, b, c))\n",
    "\n",
    "print(\"Pythagorean Triplets up to\", limit, \":\")\n",
    "print(triplets)\n"
   ]
  },
  {
   "cell_type": "markdown",
   "id": "71502b78-5e49-4819-9a3c-b245cbcfca56",
   "metadata": {},
   "source": [
    "<h4><b>Ques3:</b>Develop a program that generates a list of all possible combinations of two lists using list comprehension.</h4>\n"
   ]
  },
  {
   "cell_type": "code",
   "execution_count": 47,
   "id": "51e0b842-c668-4463-a111-5e7eaccc22bc",
   "metadata": {},
   "outputs": [
    {
     "name": "stdout",
     "output_type": "stream",
     "text": [
      "All combinations:\n",
      "[('happy', 'a'), ('happy', 'b'), ('happy', 'c'), ('birthday', 'a'), ('birthday', 'b'), ('birthday', 'c'), ('Rama', 'a'), ('Rama', 'b'), ('Rama', 'c')]\n"
     ]
    }
   ],
   "source": [
    "#Program\n",
    "list1 = ['happy','birthday','Rama']\n",
    "list2=['a','b','c']\n",
    "combinations=[]\n",
    "\n",
    "for x in list1:\n",
    "    for y in list2:\n",
    "        combinations.append((x,y))\n",
    "\n",
    "print(\"All combinations:\")\n",
    "print(combinations)\n",
    "\n",
    "\n"
   ]
  },
  {
   "cell_type": "markdown",
   "id": "5e599db8-1d53-43d9-850b-3b19b8ee872e",
   "metadata": {},
   "source": [
    "<h4><b>Ques4:</b>Write a program that calculates the mean, median, and mode of a list of numbers using list comprehension.</h4>\n"
   ]
  },
  {
   "cell_type": "code",
   "execution_count": 52,
   "id": "436c10ce-d38f-4c83-81b2-9b855ffb2e06",
   "metadata": {},
   "outputs": [
    {
     "name": "stdout",
     "output_type": "stream",
     "text": [
      "The numbers are as follows: [11, 2, 3, 4, 5, 9]\n",
      "The mean is as follows: 5.666666666666667\n",
      "The median is as follows: 4.5\n",
      "The mode is as follows: 11\n"
     ]
    }
   ],
   "source": [
    "\n",
    "import statistics \n",
    "numbers=[11,2,3,4,5,9]\n",
    "mean =statistics.mean(numbers)\n",
    "median = statistics.median(numbers)\n",
    "mode=statistics.mode(numbers)\n",
    "\n",
    "print(\"The numbers are as follows:\",numbers)\n",
    "print(\"The mean is as follows:\",mean)\n",
    "print(\"The median is as follows:\",median)\n",
    "print(\"The mode is as follows:\",mode)\n",
    "\n"
   ]
  },
  {
   "cell_type": "markdown",
   "id": "179c56e4-4b3d-4041-a3c0-c6cb7def1720",
   "metadata": {},
   "source": [
    "<h4><b>Ques5:</b>Create a program that generates Pascal's triangle up to a specified number of rows using list comprehension.</h4>\n"
   ]
  },
  {
   "cell_type": "code",
   "execution_count": 61,
   "id": "226c2dd8-041f-4d34-801b-ca39183e2671",
   "metadata": {},
   "outputs": [
    {
     "name": "stdout",
     "output_type": "stream",
     "text": [
      "[1]\n",
      "[1, 1]\n",
      "[1, 2, 1]\n",
      "[1, 3, 3, 1]\n",
      "[1, 4, 6, 4, 1]\n"
     ]
    }
   ],
   "source": [
    "#Program for Pascal Triangle\n",
    "\n",
    "n = 5\n",
    "triangle = []\n",
    "\n",
    "for i in range(n):\n",
    "    row = [1] * (i + 1)\n",
    "    for j in range(1, i):\n",
    "        row[j] = triangle[i - 1][j - 1] + triangle[i - 1][j]\n",
    "    triangle.append(row)\n",
    "\n",
    "for r in triangle:\n",
    "    print(r)\n",
    "\n"
   ]
  },
  {
   "cell_type": "markdown",
   "id": "45be33a3-851e-423f-9c4e-95692a1be397",
   "metadata": {},
   "source": [
    "<h4><b>Ques6:</b>Develop a program that calculates the sum of the digits of a factorial of numbers from 1 to 5 using list comprehension. </h4>\n"
   ]
  },
  {
   "cell_type": "code",
   "execution_count": 63,
   "id": "df441594-e90a-4d0c-92fe-a97635bfd034",
   "metadata": {},
   "outputs": [
    {
     "name": "stdout",
     "output_type": "stream",
     "text": [
      "Factorial of 1 = 1,Sum of digits = 1\n",
      "Factorial of 2 = 2,Sum of digits = 2\n",
      "Factorial of 3 = 6,Sum of digits = 6\n",
      "Factorial of 4 = 24,Sum of digits = 6\n",
      "Factorial of 5 = 120,Sum of digits = 3\n",
      "Factorial of 6 = 720,Sum of digits = 9\n",
      "Factorial of 7 = 5040,Sum of digits = 9\n",
      "Factorial of 8 = 40320,Sum of digits = 9\n"
     ]
    }
   ],
   "source": [
    "#Program\n",
    "\n",
    "import math \n",
    "\n",
    "for i in range(1,9):\n",
    "    fact= math.factorial(i)\n",
    "    digit_sum = sum(int(d) for d in str(fact))\n",
    "    print(f\"Factorial of {i} = {fact},Sum of digits = {digit_sum}\")\n",
    "    "
   ]
  },
  {
   "cell_type": "markdown",
   "id": "46c40668-2aa3-4f3b-bb6b-713aa5382348",
   "metadata": {},
   "source": [
    "<h4><b>Ques7:</b> Write a program that finds the longest word in a sentence using list comprehension.</h4>\n"
   ]
  },
  {
   "cell_type": "code",
   "execution_count": 66,
   "id": "3868565e-8d7e-4962-abd5-611961d00a04",
   "metadata": {},
   "outputs": [
    {
     "name": "stdout",
     "output_type": "stream",
     "text": [
      "The longest word  is : assignment\n"
     ]
    }
   ],
   "source": [
    "#Program\n",
    "sentence=(\"Am not in mood to do the assignment but still I have to Complete it!\")\n",
    "words = sentence.split()\n",
    "\n",
    "longest =\"\"\n",
    "for word in words:\n",
    "    if len(word)>len(longest):\n",
    "        longest= word\n",
    "\n",
    "print(\"The longest word  is :\", longest)        "
   ]
  },
  {
   "cell_type": "markdown",
   "id": "e1ccf588-4f9a-43ef-b8db-b11e4239f858",
   "metadata": {},
   "source": [
    "<h4><b>Ques8:</b>Write a program that finds the longest word in a sentence using list comprehension</h4>\n"
   ]
  },
  {
   "cell_type": "code",
   "execution_count": 77,
   "id": "05aace74-b497-4590-9d3e-540a49f3125e",
   "metadata": {},
   "outputs": [
    {
     "name": "stdout",
     "output_type": "stream",
     "text": [
      "Words with more than 3 vowels: ['education', 'beautiful', 'aeroplane']\n"
     ]
    }
   ],
   "source": [
    "#Program\n",
    "list_of_word = [\"Python\",\"is\",\"an\",\"intresting\",\"language\"]\n",
    "vowels = \"aeiou\"\n",
    "result = []\n",
    "\n",
    "for word in words:\n",
    "    count = 0\n",
    "    for ch in word:\n",
    "        if ch.lower() in vowels:\n",
    "            count += 1\n",
    "    if count > 3:\n",
    "        result.append(word)\n",
    "\n",
    "print(\"Words with more than 3 vowels:\", result)\n"
   ]
  },
  {
   "cell_type": "markdown",
   "id": "c6c1cfe7-bcb6-4106-99bd-68fd34ae3335",
   "metadata": {},
   "source": [
    "<h4><b>Ques9:</b>Develop a program that calculates the sum of the digits of numbers from 1 to 1000 using list comprehension.</h4>\n"
   ]
  },
  {
   "cell_type": "code",
   "execution_count": 1,
   "id": "80d6c599-92c4-493a-9b7c-2e2ee136cb60",
   "metadata": {},
   "outputs": [
    {
     "name": "stdout",
     "output_type": "stream",
     "text": [
      "Sum of all digits from 1 to 1000 = 13501\n"
     ]
    }
   ],
   "source": [
    "#Program\n",
    "total_sum =0\n",
    "\n",
    "for num in range(1,1001):\n",
    "    for digits in str(num):\n",
    "        total_sum +=int(digits)\n",
    "\n",
    "print(\"Sum of all digits from 1 to 1000 =\",total_sum)        \n",
    "    "
   ]
  },
  {
   "cell_type": "markdown",
   "id": "49d8142d-d36f-4396-a76c-66a4a2293bdb",
   "metadata": {},
   "source": [
    "<h4><b>Ques10:</b> Write a program that generates a list of prime palindromic numbers using list comprehension. </h4>\n"
   ]
  },
  {
   "cell_type": "code",
   "execution_count": 80,
   "id": "c5bc31f4-c452-4afb-a155-9565b90d1a87",
   "metadata": {},
   "outputs": [
    {
     "name": "stdout",
     "output_type": "stream",
     "text": [
      "Prime palindromic numbers are:\n",
      "[2, 3, 5, 7, 11, 101, 131, 151, 181, 191, 313, 353, 373, 383]\n"
     ]
    }
   ],
   "source": [
    "#PROGRAM\n",
    "def is_prime(n):\n",
    "    if n < 2:\n",
    "        return False\n",
    "    for i in range(2, int(n ** 0.5) + 1):\n",
    "        if n % i == 0:\n",
    "            return False\n",
    "    return True\n",
    "\n",
    "palindromic_primes = []\n",
    "\n",
    "for num in range(2, 500):\n",
    "    if str(num) == str(num)[::-1] and is_prime(num):\n",
    "        palindromic_primes.append(num)\n",
    "\n",
    "print(\"Prime palindromic numbers are:\")\n",
    "print(palindromic_primes)\n"
   ]
  },
  {
   "cell_type": "markdown",
   "id": "05c2ac73-c4fa-44c6-81b3-fc29e2407502",
   "metadata": {},
   "source": [
    "<h2><b><u><span style=\"color:red\">Functions</span></u></b></h2>"
   ]
  },
  {
   "cell_type": "markdown",
   "id": "8d21d664-aebf-411e-bcae-d02653d46857",
   "metadata": {},
   "source": [
    "<h4><b>Ques1:</b> Explain the purpose of the `map()` function in Python and provide an example of how it can be used to apply a function to each element of an iterable. </h4>\n"
   ]
  },
  {
   "cell_type": "code",
   "execution_count": 82,
   "id": "91e7390a-009e-4133-9307-33dec1146a15",
   "metadata": {},
   "outputs": [
    {
     "name": "stdout",
     "output_type": "stream",
     "text": [
      "[0, 0, 2, 2, 0, 2, 0]\n"
     ]
    }
   ],
   "source": [
    "###map() function in Python is a built-in function used to apply  a given function to each iterable (just like list,tuple, or set)\n",
    "###and returns a map objecwhich is an iterator###\n",
    "\n",
    "#PROGRAM\n",
    "number=[23,45,67,12]\n",
    "result=list(map(lambda x:x*2,nums))\n",
    "print(result)"
   ]
  },
  {
   "cell_type": "markdown",
   "id": "b3467501-0881-4235-ae4a-5a435e6a5f75",
   "metadata": {},
   "source": [
    "<h4><b>Ques2:</b>Write a Python program that uses the `map()` function to square each element of a list of numbers.</h4> "
   ]
  },
  {
   "cell_type": "code",
   "execution_count": 84,
   "id": "5a3f4261-9c03-4516-9c2a-b38593e17c52",
   "metadata": {},
   "outputs": [
    {
     "name": "stdout",
     "output_type": "stream",
     "text": [
      "Squares: [121, 4, 9, 16, 25, 81]\n"
     ]
    }
   ],
   "source": [
    "#PROGRAM\n",
    "given_numbers=[3,4,5,6,7]\n",
    "squares=list(map(lambda x:x**2,numbers))\n",
    "print(\"Squares:\",squares)"
   ]
  },
  {
   "cell_type": "markdown",
   "id": "f2c2d817-da97-464d-9861-c84096da4152",
   "metadata": {},
   "source": [
    "<h4><b>Ques3:</b>How does the `map()` function differ from a list comprehension in Python, and when would you choose one over the other? . </h4>\n"
   ]
  },
  {
   "cell_type": "markdown",
   "id": "48c2e46c-2d39-47f6-9ef6-ee958714e4c5",
   "metadata": {},
   "source": [
    "map():\n",
    "Applies a function to each element of an iterable.\n",
    "Returns a map object (which are usually convert to a list)\n",
    "\n",
    "\n",
    "It is used when:\n",
    "1. You already have a defined function you want to apply\n",
    "2. You want slightly faster performance(for large datasets).\n",
    "3. When working in a functional programming style.\n",
    "\n",
    "\n",
    "list comprehension:\n",
    "It is a Pythonic,readable way to write the same thing.\n",
    "\n",
    "\n",
    "It is used when:\n",
    "1.You need simple transformations.\n",
    "2.You want better readability.\n",
    "3.You also need to add conditions easily.\n",
    "\n",
    "\n",
    "<h3><b>Example</b></h3>"
   ]
  },
  {
   "cell_type": "code",
   "execution_count": 87,
   "id": "14732d7c-63fc-461d-8356-cf0aab543b4f",
   "metadata": {},
   "outputs": [
    {
     "name": "stdout",
     "output_type": "stream",
     "text": [
      "[2, 3, 4]\n",
      "[2, 3, 4]\n"
     ]
    }
   ],
   "source": [
    "#PROGRAM\n",
    "nums = [1, 2, 3]\n",
    "# map\n",
    "map_result = list(map(lambda x: x + 1, nums))\n",
    "# list comprehension\n",
    "list_comp = [x + 1 for x in nums]\n",
    "print(map_result)\n",
    "print(list_comp)\n"
   ]
  },
  {
   "cell_type": "markdown",
   "id": "a568cfdb-7b21-4d00-8998-bd9f13ca6939",
   "metadata": {},
   "source": [
    "<h4><b>Ques4:</b>Create a Python program that uses the `map()` function to convert a list of names to uppercase. </h4>\n"
   ]
  },
  {
   "cell_type": "code",
   "execution_count": 89,
   "id": "4356e331-e153-4a1e-9a25-16606f00689c",
   "metadata": {},
   "outputs": [
    {
     "name": "stdout",
     "output_type": "stream",
     "text": [
      "['SHUSHMA', 'SHIVI', 'SHUHANI']\n"
     ]
    }
   ],
   "source": [
    "#PROGRAM\n",
    "names=[\"shushma\",\"shivi\",\"shuhani\"]\n",
    "uppercase_names =list(map(str.upper,names  ))\n",
    "print(uppercase_names)\n"
   ]
  },
  {
   "cell_type": "markdown",
   "id": "d6632da2-b665-4432-a5da-387a9596418b",
   "metadata": {},
   "source": [
    "<h4><b>Ques5:</b>Write a Python program that uses the `map()` function to calculate the length of each word in a list of strings.</h4>\n"
   ]
  },
  {
   "cell_type": "code",
   "execution_count": 90,
   "id": "f9742218-e1ff-4517-a763-4d35ecd7b118",
   "metadata": {},
   "outputs": [
    {
     "name": "stdout",
     "output_type": "stream",
     "text": [
      "[8, 6, 5]\n"
     ]
    }
   ],
   "source": [
    "#PROGRAM\n",
    "strings=[\"Hamirpur\",\"Shimla\",\"Solan\"]\n",
    "length=list(map(len,strings))\n",
    "print(length)"
   ]
  },
  {
   "cell_type": "markdown",
   "id": "8a472da2-db84-4598-b420-90d2b46ddcea",
   "metadata": {},
   "source": [
    "<h4><b>Ques6:</b>How can you use the `map()` function to apply a custom function to elements of multiple lists simultaneously in Python? </h4>\n"
   ]
  },
  {
   "cell_type": "code",
   "execution_count": 91,
   "id": "7408ee54-1efe-4c12-8d74-100d97fe5ca5",
   "metadata": {},
   "outputs": [
    {
     "name": "stdout",
     "output_type": "stream",
     "text": [
      "[5, 7, 9]\n",
      "[6, 8, 10, 12]\n"
     ]
    }
   ],
   "source": [
    "#PROGRAM\n",
    "list1=[1,2,3,4]\n",
    "list2=[5,6,7,8]\n",
    "sum_list=list(map(lambda x,y:x+y,list1,list2))\n",
    "print(sum_list)\n"
   ]
  },
  {
   "cell_type": "markdown",
   "id": "d69bf187-4f56-476d-bcef-52be3421a537",
   "metadata": {},
   "source": [
    "<h4><b>Ques7</b>:Create a Python program that uses `map()` to convert a list of temperatures from Celsius to Fahrenheit.</h4>\n",
    "\n"
   ]
  },
  {
   "cell_type": "code",
   "execution_count": 94,
   "id": "9b321176-f06a-4055-801a-e3e3e584cd05",
   "metadata": {},
   "outputs": [
    {
     "name": "stdout",
     "output_type": "stream",
     "text": [
      "The fahrenheit temperature is: [32.0, 68.0, 86.0, 104.0]\n"
     ]
    }
   ],
   "source": [
    "#PROGRAM\n",
    "celsius=[0,20,30,40]\n",
    "fahrenheit =list(map(lambda c:(c*9/5) +32,celsius))\n",
    "print(\"The fahrenheit temperature is:\",fahrenheit)"
   ]
  },
  {
   "cell_type": "markdown",
   "id": "2d07ba43-5fc4-491e-9426-8466dcae4a03",
   "metadata": {},
   "source": [
    "<h4><b>Ques8:</b> Write a Python program that uses the `map()` function to round each element of a list of floating-point numbers to the \n",
    "nearest integer. </h4>\n"
   ]
  },
  {
   "cell_type": "code",
   "execution_count": 96,
   "id": "f50510be-4d2b-44a4-b2f5-921de0a7524a",
   "metadata": {},
   "outputs": [
    {
     "name": "stdout",
     "output_type": "stream",
     "text": [
      "[1, 1, 1, 1, 89]\n"
     ]
    }
   ],
   "source": [
    "#PROGRAM\n",
    "number=[1.23,1.45,1.35,1,89]\n",
    "rounded = list(map(round,number))\n",
    "print(rounded)"
   ]
  },
  {
   "cell_type": "markdown",
   "id": "9e834148-3058-46b5-a9d0-7df86fef7159",
   "metadata": {},
   "source": [
    "<h4><b>Ques9:</b> What is the `reduce()` function in Python, and what module should you import to use it? Provide an example of its basic usage. </h4>\n"
   ]
  },
  {
   "cell_type": "markdown",
   "id": "9c755ebd-668a-4368-9b39-351266ef0904",
   "metadata": {},
   "source": [
    "reduce():The reduce() function in python, found within the functools module, is a powelful tool for applying tool for applying a  function cummulatively\n",
    "to the items for an iterable,reducing the iterable to a single,comulative value."
   ]
  },
  {
   "cell_type": "code",
   "execution_count": 97,
   "id": "12e367e1-d4d1-4388-ba40-227ae16673ce",
   "metadata": {},
   "outputs": [
    {
     "name": "stdout",
     "output_type": "stream",
     "text": [
      "2688\n"
     ]
    }
   ],
   "source": [
    "#PROGRAM\n",
    "from functools import reduce\n",
    "number=[2,4,6,7,8]\n",
    "product=reduce(lambda x,y:x*y,number)\n",
    "print(product)"
   ]
  },
  {
   "cell_type": "markdown",
   "id": "da6b3422-42ca-4280-bcbc-fa83d951718f",
   "metadata": {},
   "source": [
    "<h4><b>Ques10:</b> Write a Python program that uses the `reduce()` function to find the product of all elements in a list.</h4>\n"
   ]
  },
  {
   "cell_type": "code",
   "execution_count": 99,
   "id": "dc6b3910-1150-4246-9857-f78a74cb48b7",
   "metadata": {},
   "outputs": [
    {
     "name": "stdout",
     "output_type": "stream",
     "text": [
      "Product = 9114\n"
     ]
    }
   ],
   "source": [
    "#PROGRAM\n",
    "from functools import reduce\n",
    "number= [21, 31,14]\n",
    "output = reduce(lambda x, y: x * y, number)\n",
    "print(\"Product =\", output)\n"
   ]
  },
  {
   "cell_type": "markdown",
   "id": "fa88dd76-7d04-49dd-8c3d-29b908001e94",
   "metadata": {},
   "source": [
    "<h4><b>Ques11:</b> Create a Python program that uses `reduce()` to find the maximum element in a list of numbers. </h4>\n"
   ]
  },
  {
   "cell_type": "code",
   "execution_count": 102,
   "id": "d71526c5-6759-47a1-8dcc-c7a39f76bf5c",
   "metadata": {},
   "outputs": [
    {
     "name": "stdout",
     "output_type": "stream",
     "text": [
      " The Maximum element in a list of numbers = 310\n"
     ]
    }
   ],
   "source": [
    "#PROGRAM\n",
    "from functools import reduce\n",
    "numbers = [100, 215, 118, 310]\n",
    "max_numbers= reduce(lambda a, b: a if a > b else b, numbers)\n",
    "print(\" The Maximum element in a list of numbers =\", max_numbers)\n"
   ]
  },
  {
   "cell_type": "markdown",
   "id": "c24b749e-1cd1-47de-9970-9967bdcb020f",
   "metadata": {},
   "source": [
    "<h4><b>Ques12:</b> How can you use the `reduce()` function to concatenate a list of strings into a single string? </h4>\n"
   ]
  },
  {
   "cell_type": "code",
   "execution_count": 103,
   "id": "ad552747-41f7-40e3-89ed-e07f23a8f777",
   "metadata": {},
   "outputs": [
    {
     "name": "stdout",
     "output_type": "stream",
     "text": [
      "LIFE IS UNEXPECTED\n"
     ]
    }
   ],
   "source": [
    "#PROGRAM\n",
    "from functools import reduce\n",
    "words = [\"LIFE\", \"IS\", \"UNEXPECTED\"]\n",
    "sentence = reduce(lambda x, y: x + \" \" + y, words)\n",
    "print(sentence)\n"
   ]
  },
  {
   "cell_type": "markdown",
   "id": "50ef4353-488f-4a57-8872-606a57e8b0f2",
   "metadata": {},
   "source": [
    "<h4><b>Ques13:</b>Write a Python program that calculates the factorial of a number using the `reduce()` function.</h4>\n",
    "\n"
   ]
  },
  {
   "cell_type": "code",
   "execution_count": 106,
   "id": "020407fa-043c-4781-8de8-65e27c9039b5",
   "metadata": {},
   "outputs": [
    {
     "name": "stdin",
     "output_type": "stream",
     "text": [
      "Enter the number: 7\n"
     ]
    },
    {
     "name": "stdout",
     "output_type": "stream",
     "text": [
      "The factorial of a number: 5040\n"
     ]
    }
   ],
   "source": [
    "#PROGRAM\n",
    "from functools import reduce\n",
    "n=int(input(\"Enter the number:\"))\n",
    "fact=reduce(lambda x,y:x*y,range(1,n+1))\n",
    "print(\"The factorial of a number:\",fact)"
   ]
  },
  {
   "cell_type": "markdown",
   "id": "de84cfed-a46a-4a2e-bf76-f50a72fe6c02",
   "metadata": {},
   "source": [
    "<h4><b>Ques14:</b>Create a Python program that uses `reduce()` to find the GCD (Greatest Common Divisor) of a list of numbers. </h4>\n"
   ]
  },
  {
   "cell_type": "code",
   "execution_count": 108,
   "id": "547fc97d-ec3f-454f-8484-30a9649a68b0",
   "metadata": {},
   "outputs": [
    {
     "name": "stdout",
     "output_type": "stream",
     "text": [
      "The Greatest Common Divisor (GCD): 5\n"
     ]
    }
   ],
   "source": [
    "#PROGRAM\n",
    "from functools import reduce\n",
    "import math\n",
    "number=[25,60,30]\n",
    "output=reduce(math.gcd,number)\n",
    "print(\"The Greatest Common Divisor (GCD):\",output)              "
   ]
  },
  {
   "cell_type": "markdown",
   "id": "b1e58829-04e6-4e15-b71e-b27b348c692a",
   "metadata": {},
   "source": [
    "<h4><b>Ques15:</b>Write a Python program that uses the `reduce()` function to find the sum of the digits of a given number. </h4>\n"
   ]
  },
  {
   "cell_type": "code",
   "execution_count": 110,
   "id": "e172a1d4-6c38-4a44-8721-2f5aecdfd6ff",
   "metadata": {},
   "outputs": [
    {
     "name": "stdout",
     "output_type": "stream",
     "text": [
      "Sum of digits = 22\n"
     ]
    }
   ],
   "source": [
    "#PROGRAM\n",
    "from functools import reduce\n",
    "\n",
    "number = 2318\n",
    "sum_of_digits = reduce(lambda x, y: x + y, [int(d) for d in str(num)])\n",
    "print(\"Sum of digits =\", sum_of_digits)\n"
   ]
  },
  {
   "cell_type": "markdown",
   "id": "a791265f-364c-448a-88ab-d6cfe9eb5c4e",
   "metadata": {},
   "source": [
    "<h4><b>Ques16:</b> Explain the purpose of the `filter()` function in Python and provide an example of how it can be used to filter elements from an iterable.</h4>\n"
   ]
  },
  {
   "cell_type": "markdown",
   "id": "ab8ba045-8b89-4717-a0cf-3761c14f470c",
   "metadata": {},
   "source": [
    "filter():is used to contruct am iterator from elements of an iterable for which a function returns true.It \n",
    "serves as a concise and efficient way toselect specific elements from a sequence based on given condition"
   ]
  },
  {
   "cell_type": "code",
   "execution_count": null,
   "id": "7f429ab0-4e01-4a7f-8ba1-95918b4d2f22",
   "metadata": {},
   "outputs": [],
   "source": [
    "nums = [1, 2, 3, 4, 5, 6]\n",
    "even = list(filter(lambda x: x % 2 == 0, nums))\n",
    "print(even)\n"
   ]
  },
  {
   "cell_type": "markdown",
   "id": "84a04aaf-aa36-47fd-adb1-0321541e7ab6",
   "metadata": {},
   "source": [
    "<h4><b>Ques17:</b>Write a Python program that uses the `filter()` function to select even numbers from a list of integers.</h4>\n"
   ]
  },
  {
   "cell_type": "code",
   "execution_count": 112,
   "id": "48b24cea-3579-4911-a35c-39ddc7e3805f",
   "metadata": {},
   "outputs": [
    {
     "name": "stdout",
     "output_type": "stream",
     "text": [
      "The Even numbers are: [110, 116, 120, 130]\n"
     ]
    }
   ],
   "source": [
    "#PROGRAM\n",
    "nums= [110, 116, 120, 125, 130]\n",
    "even_nums = list(filter(lambda x: x % 2 == 0, nums))\n",
    "print(\"The Even numbers are:\", even_nums)\n"
   ]
  },
  {
   "cell_type": "markdown",
   "id": "238a656e-e155-4362-862a-42f430d8e2fa",
   "metadata": {},
   "source": [
    "<h4><b>Ques18:</b> Create a Python program that uses the `filter()` function to select names that start with a specific letter from a list of strings.</h4>\n"
   ]
  },
  {
   "cell_type": "code",
   "execution_count": 113,
   "id": "8eed9234-8742-478d-a5c3-c7771fd4ed8b",
   "metadata": {},
   "outputs": [
    {
     "name": "stdout",
     "output_type": "stream",
     "text": [
      "Names starting with S: ['Shalu', 'Shuku', 'Shivam']\n"
     ]
    }
   ],
   "source": [
    "#PROGRAM\n",
    "names = [\"Shalu\", \"Shuku\", \"Manvi\", \"Shivam\"]\n",
    "s_names = list(filter(lambda n: n.startswith('S'), names))\n",
    "print(\"Names starting with S:\", s_names)\n"
   ]
  },
  {
   "cell_type": "markdown",
   "id": "fbf6d9d6-bae1-4ddd-9809-3bdbb5bced85",
   "metadata": {},
   "source": [
    "<h4><b>Ques19:</b>Write a Python program that uses the `filter()` function to select prime numbers from a list of integers. </h4>\n"
   ]
  },
  {
   "cell_type": "code",
   "execution_count": 115,
   "id": "3005a55f-92b9-4a1f-8006-d27709b72be2",
   "metadata": {},
   "outputs": [
    {
     "name": "stdout",
     "output_type": "stream",
     "text": [
      "The Prime numbers are: [3, 23]\n"
     ]
    }
   ],
   "source": [
    "#PROGRAM\n",
    "def is_prime(n):\n",
    "    if n < 2:\n",
    "        return False\n",
    "    for i in range(2, int(n ** 0.5) + 1):\n",
    "        if n % i == 0:\n",
    "            return False\n",
    "    return True\n",
    "\n",
    "nums = [1,3,4,6,8,9,23,4,1,24,]\n",
    "prime_num = list(filter(is_prime, nums))\n",
    "print(\"The Prime numbers are:\", prime_num)\n"
   ]
  },
  {
   "cell_type": "markdown",
   "id": "069b560c-cd36-4632-940c-a41223392cf6",
   "metadata": {},
   "source": [
    "<h4><b>Ques20:</b> How can you use the `filter()` function to remove None values from a list in Python? </h4>\n"
   ]
  },
  {
   "cell_type": "code",
   "execution_count": 118,
   "id": "08909c39-673d-4c02-89c0-889faf021014",
   "metadata": {},
   "outputs": [
    {
     "name": "stdout",
     "output_type": "stream",
     "text": [
      "Without None: [100, 200, 300]\n"
     ]
    }
   ],
   "source": [
    "#PROGRAM\n",
    "values = [100, None, 200, None, 300]\n",
    "clean = list(filter(None, values))\n",
    "print(\"Without None:\", clean)\n"
   ]
  },
  {
   "cell_type": "markdown",
   "id": "c927a8a1-340a-404a-b14d-22c0fa19970c",
   "metadata": {},
   "source": [
    "<h4><b>Ques21:</b> How can you use the `filter()` function to remove None values from a list in Python? </h4>\n"
   ]
  },
  {
   "cell_type": "code",
   "execution_count": null,
   "id": "057ef18f-7d6d-43e4-8422-f59d57f4f83b",
   "metadata": {},
   "outputs": [],
   "source": [
    "#PROGRAM\n",
    "words = [\"apple\", \"banana\", \"kiwi\", \"mango\"]\n",
    "long_words = list(filter(lambda w: len(w) > 5, words))\n",
    "print(\"Long words:\", long_words)\n"
   ]
  },
  {
   "cell_type": "markdown",
   "id": "ce40bb97-601f-42b9-94a3-02b4c7754ee8",
   "metadata": {},
   "source": [
    "<h4><b>Ques22:</b> Explain the concept of recursion in Python. How does it differ from iteration? </h4>\n"
   ]
  },
  {
   "cell_type": "markdown",
   "id": "0ba86673-c8e6-458b-bbd9-a766f9243f40",
   "metadata": {},
   "source": [
    "Recursion:In python ,it is a programming technique in which a function repeatedly calls itself to solve a problem,until a \"base case\"is reached,which stops the recursion.\n",
    "\n",
    "It is different from loops,because it uses function call instead of iterations.\n"
   ]
  },
  {
   "cell_type": "markdown",
   "id": "9ec7ed05-be0d-47aa-9603-eca9a54bab26",
   "metadata": {},
   "source": [
    "<h4><b>Ques23:</b> Write a Python program to calculate the factorial of a number using recursion.</h4>\n"
   ]
  },
  {
   "cell_type": "code",
   "execution_count": 120,
   "id": "da793c33-ba26-485a-b3b1-2516f91112db",
   "metadata": {},
   "outputs": [
    {
     "name": "stdout",
     "output_type": "stream",
     "text": [
      "Factorial of 7 = 5040\n"
     ]
    }
   ],
   "source": [
    "#PROGRAM\n",
    "def fact(n):\n",
    "    if n == 1:\n",
    "        return 1\n",
    "    else:\n",
    "        return n * fact(n - 1)\n",
    "\n",
    "print(\"Factorial of 7 =\", fact(7))\n"
   ]
  },
  {
   "cell_type": "markdown",
   "id": "e6fe3ec8-098c-4aad-b2af-5bfeca027a8e",
   "metadata": {},
   "source": [
    "<h4><b>Ques24:</b> Create a recursive Python function to find the nth Fibonacci number.</h4>\n"
   ]
  },
  {
   "cell_type": "code",
   "execution_count": 127,
   "id": "f0c9b1c5-0154-4df0-ac3e-d8e2ab3c5e11",
   "metadata": {},
   "outputs": [
    {
     "name": "stdout",
     "output_type": "stream",
     "text": [
      "0 1 1 2 3 5 8 13 21 34 "
     ]
    }
   ],
   "source": [
    "#PROGRAM\n",
    "def fib(n):\n",
    "    if n <= 1:\n",
    "        return n\n",
    "    else:\n",
    "        return fib(n-1) + fib(n-2)\n",
    "\n",
    "for i in range(10):\n",
    "    print(fib(i), end=\" \")\n"
   ]
  },
  {
   "cell_type": "markdown",
   "id": "e3776fd4-c52a-4b77-8ad4-dfbdc7b4ead6",
   "metadata": {},
   "source": [
    "<h4><b>Ques25:</b>Write a recursive Python function to calculate the sum of all elements in a list. </h4>\n"
   ]
  },
  {
   "cell_type": "code",
   "execution_count": 125,
   "id": "4ae15d73-3eaf-41b0-ab76-bde0e6258c02",
   "metadata": {},
   "outputs": [
    {
     "name": "stdout",
     "output_type": "stream",
     "text": [
      "Sum = 135\n"
     ]
    }
   ],
   "source": [
    "#PROGRAM\n",
    "def sum_list(lst):\n",
    "    if not lst:\n",
    "        return 0\n",
    "    else:\n",
    "        return lst[0] + sum_list(lst[1:])\n",
    "\n",
    "print(\"Sum =\", sum_list([11,12,23,34,55]))\n"
   ]
  },
  {
   "cell_type": "markdown",
   "id": "a4901010-929e-4f9a-978e-fddaa9156c3b",
   "metadata": {},
   "source": [
    "<h4><b>Ques26:</b> How can you prevent a recursive function from running indefinitely, causing a stack overflow error?</h4>\n"
   ]
  },
  {
   "cell_type": "markdown",
   "id": "eb1dc0e1-7deb-4f2a-aeee-50c013456ee7",
   "metadata": {},
   "source": [
    "To prevent a recursive function from running indefinely,causing a stack overflow error\n",
    "\n",
    "\n",
    "Always include a base condition (like if n == 0:) to stop recursive calls.\n",
    "Otherwise, recursion will continue forever and cause a stack overflow."
   ]
  },
  {
   "cell_type": "markdown",
   "id": "8067712a-2350-4229-90ac-bb0a6c910dbc",
   "metadata": {},
   "source": [
    "<h4><b>Ques27:</b> Create a recursive Python function to find the greatest common divisor (GCD) of two numbers using the Euclidean algorithm.</h4>\n"
   ]
  },
  {
   "cell_type": "code",
   "execution_count": 133,
   "id": "648f7c69-02c5-484f-8a2c-410481e75af7",
   "metadata": {},
   "outputs": [
    {
     "name": "stdout",
     "output_type": "stream",
     "text": [
      "GCD = 6\n"
     ]
    }
   ],
   "source": [
    "#PROGRAM\n",
    "def gcd(a, b):\n",
    "    if b == 0:\n",
    "        return a\n",
    "    return gcd(b, a % b)\n",
    "\n",
    "print(\"GCD =\", gcd(48, 18))\n"
   ]
  },
  {
   "cell_type": "markdown",
   "id": "d2da8651-89dc-4d09-9ac3-32f123e52f15",
   "metadata": {},
   "source": [
    "<h4><b>Ques28:</b> Write a recursive Python function to reverse a string. </h4>\n"
   ]
  },
  {
   "cell_type": "code",
   "execution_count": 132,
   "id": "544b9c46-197a-402c-a307-ecc4cf29e74a",
   "metadata": {},
   "outputs": [
    {
     "name": "stdout",
     "output_type": "stream",
     "text": [
      "nohtyp\n"
     ]
    }
   ],
   "source": [
    "#PROGRAM\n",
    "def reverse(s):\n",
    "    if len(s) == 0:\n",
    "        return s\n",
    "    return reverse(s[1:]) + s[0]\n",
    "\n",
    "print(reverse(\"python\"))\n"
   ]
  },
  {
   "cell_type": "markdown",
   "id": "c1bf0675-b2d5-4f4e-8d27-069229573de4",
   "metadata": {},
   "source": [
    "<h4><b>Ques29:</b> Create a recursive Python function to calculate the power of a number (x^n).</h4>\n"
   ]
  },
  {
   "cell_type": "code",
   "execution_count": 131,
   "id": "128e9755-0d7a-457f-94cf-179108317c82",
   "metadata": {},
   "outputs": [
    {
     "name": "stdout",
     "output_type": "stream",
     "text": [
      "3^5 = 243\n"
     ]
    }
   ],
   "source": [
    "#PROGRAM\n",
    "def power(x, n):\n",
    "    if n == 0:\n",
    "        return 1\n",
    "    return x * power(x, n - 1)\n",
    "\n",
    "print(\"3^5 =\", power(3, 5))\n"
   ]
  },
  {
   "cell_type": "markdown",
   "id": "643e9afa-5bef-466e-b52a-16a163f12ce9",
   "metadata": {},
   "source": [
    "<h4><b>Ques30:</b> Write a recursive Python function to find all permutations of a given string</h4>\n"
   ]
  },
  {
   "cell_type": "code",
   "execution_count": 128,
   "id": "342f4f17-376c-47ec-b97b-824c8e52cc3e",
   "metadata": {},
   "outputs": [
    {
     "name": "stdout",
     "output_type": "stream",
     "text": [
      "abc\n",
      "acb\n",
      "bac\n",
      "bca\n",
      "cab\n",
      "cba\n"
     ]
    }
   ],
   "source": [
    "#PROGRAM\n",
    "def permute(s, answer=\"\"):\n",
    "    if len(s) == 0:\n",
    "        print(answer)\n",
    "        return\n",
    "    for i in range(len(s)):\n",
    "        ch = s[i]\n",
    "        left = s[:i]\n",
    "        right = s[i+1:]\n",
    "        permute(left + right, answer + ch)\n",
    "\n",
    "permute(\"abc\")\n"
   ]
  },
  {
   "cell_type": "markdown",
   "id": "e556a1fa-ec67-4e4b-8b90-4caf3e8bed9a",
   "metadata": {},
   "source": [
    "<h4><b>Ques31:</b> Write a recursive Python function to find all permutations of a given string</h4>\n"
   ]
  },
  {
   "cell_type": "code",
   "execution_count": null,
   "id": "770e200d-ea71-4b65-aa09-a70ef5889f93",
   "metadata": {},
   "outputs": [],
   "source": [
    "#PROGRAM\n",
    "def is_palindrome(s):\n",
    "    if len(s) <= 1:\n",
    "        return True\n",
    "    if s[0] != s[-1]:\n",
    "        return False\n",
    "    return is_palindrome(s[1:-1])\n",
    "\n",
    "print(is_palindrome(\"madam\"))\n"
   ]
  },
  {
   "cell_type": "markdown",
   "id": "b0d971c8-39e9-41e1-b1ba-23ed9859483d",
   "metadata": {},
   "source": [
    "<h4><b>Ques32:</b> Create a recursive Python function to generate all possible combinations of a list of elements. </h4>\n"
   ]
  },
  {
   "cell_type": "code",
   "execution_count": null,
   "id": "479acbd2-a4ee-4925-92f7-8e5268299967",
   "metadata": {},
   "outputs": [],
   "source": [
    "#PROGRAM\n",
    "def combinations(lst, current=[]):\n",
    "    print(current)\n",
    "    for i in range(len(lst)):\n",
    "        combinations(lst[i+1:], current + [lst[i]])\n",
    "\n",
    "combinations([1, 2, 3])\n"
   ]
  },
  {
   "cell_type": "markdown",
   "id": "393dc305-2157-4c5a-be86-6bc0ca013885",
   "metadata": {},
   "source": [
    "<h4><b>Ques33:</b> What are lambda functions in Python, and when are they typically used?</h4>\n"
   ]
  },
  {
   "cell_type": "markdown",
   "id": "fa071de4-6541-4799-9e6e-293d5841d21d",
   "metadata": {},
   "source": [
    "Lambda Function: A Lambda Function in python is an anonymoous,single-expressiomn function.It is defined using lambda keyword.\n",
    "\n",
    "They are  typically used for:\n",
    "\n",
    "\n",
    "\n",
    "1.Short,one-time operations.\n",
    "\n",
    "2.Higher_order functions."
   ]
  },
  {
   "cell_type": "code",
   "execution_count": null,
   "id": "a98a4526-9a1e-4490-8b55-5d4f1be97f60",
   "metadata": {},
   "outputs": [],
   "source": [
    "#PROGRAM\n",
    "add = lambda a, b: a + b\n",
    "print(add(5, 3))\n"
   ]
  },
  {
   "cell_type": "markdown",
   "id": "5ddf7042-1024-4fe0-9f6b-403da139eeea",
   "metadata": {},
   "source": [
    "<h4><b>Ques34:</b> Write a Python program that uses lambda functions to sort a list of tuples based on the second element.</h4>\n"
   ]
  },
  {
   "cell_type": "code",
   "execution_count": null,
   "id": "756336c5-b426-466c-bc26-86fd987c0636",
   "metadata": {},
   "outputs": [],
   "source": [
    "#PROGRAM\n",
    "data = [(1, 3), (2, 1), (4, 2)]\n",
    "sorted_data = sorted(data, key=lambda x: x[1])\n",
    "print(sorted_data)\n"
   ]
  },
  {
   "cell_type": "markdown",
   "id": "e0ae9243-1218-43b3-b34b-c24e48b674dd",
   "metadata": {},
   "source": [
    "<h4><b>Ques35:</b> Explain the concept of higher-order functions in Python, and provide an example. </h4>\n"
   ]
  },
  {
   "cell_type": "markdown",
   "id": "3a0fa2ec-5fb2-400e-9837-b8fffe295de2",
   "metadata": {},
   "source": [
    "Higher Order Function:are the functions that exhibit one or both of the following Characteristics:\n",
    "\n",
    "1.They take one or more fuunctions as arguments.\n",
    "\n",
    "2.They return a function as their result."
   ]
  },
  {
   "cell_type": "code",
   "execution_count": 129,
   "id": "49f44b6b-fd98-4b3e-85ca-07642543819d",
   "metadata": {},
   "outputs": [
    {
     "name": "stdout",
     "output_type": "stream",
     "text": [
      "36\n"
     ]
    }
   ],
   "source": [
    "#PROGRAM\n",
    "def apply(func, value):\n",
    "    return func(value)\n",
    "\n",
    "print(apply(lambda x: x**2, 6))\n"
   ]
  },
  {
   "cell_type": "markdown",
   "id": "94793a7e-824c-4414-878c-87eaefda0ccf",
   "metadata": {},
   "source": [
    "<h4><b>Ques36:</b> Create a Python function that takes a list of numbers and a function as arguments, applying the function to each element in the list. </h4>\n"
   ]
  },
  {
   "cell_type": "code",
   "execution_count": 130,
   "id": "c472eeb7-4b84-4798-80fa-7cfaa44ca5ad",
   "metadata": {},
   "outputs": [
    {
     "name": "stdout",
     "output_type": "stream",
     "text": [
      "[44, 48, 28, 16]\n"
     ]
    }
   ],
   "source": [
    "#PROGRAM\n",
    "def apply_to_list(lst, func):\n",
    "    return [func(x) for x in lst]\n",
    "\n",
    "nums = [11, 12, 7, 4]\n",
    "print(apply_to_list(nums, lambda x: x * 4))\n"
   ]
  }
 ],
 "metadata": {
  "kernelspec": {
   "display_name": "Python 3 (ipykernel)",
   "language": "python",
   "name": "python3"
  },
  "language_info": {
   "codemirror_mode": {
    "name": "ipython",
    "version": 3
   },
   "file_extension": ".py",
   "mimetype": "text/x-python",
   "name": "python",
   "nbconvert_exporter": "python",
   "pygments_lexer": "ipython3",
   "version": "3.13.5"
  }
 },
 "nbformat": 4,
 "nbformat_minor": 5
}
